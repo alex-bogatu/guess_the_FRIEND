{
 "cells": [
  {
   "cell_type": "markdown",
   "metadata": {
    "colab_type": "text",
    "id": "FYuiF0kz2Ud-"
   },
   "source": [
    "Firstly, download required data: the Friends quotes and FastText Common Crawl word vectors.\n",
    "(Comment this once you download the files.)"
   ]
  },
  {
   "cell_type": "code",
   "execution_count": 0,
   "metadata": {
    "colab": {},
    "colab_type": "code",
    "id": "XCWt4eAs2R5f"
   },
   "outputs": [],
   "source": [
    "!wget https://raw.githubusercontent.com/shilpibhattacharyya/Friends_Analysis/master/friends_dataset.csv\n",
    "!wget https://dl.fbaipublicfiles.com/fasttext/vectors-english/crawl-300d-2M-subword.zip\n",
    "!unzip crawl-300d-2M-subword.zip\n",
    "!rm crawl-300d-2M-subword.zip\n",
    "!rm crawl-300d-2M-subword.bin"
   ]
  },
  {
   "cell_type": "markdown",
   "metadata": {
    "colab_type": "text",
    "id": "oFDfMnfc2h5W"
   },
   "source": [
    "Import necessary packages"
   ]
  },
  {
   "cell_type": "code",
   "execution_count": 41,
   "metadata": {
    "colab": {
     "base_uri": "https://localhost:8080/",
     "height": 102
    },
    "colab_type": "code",
    "id": "KGaBd3_wqLiC",
    "outputId": "7bde93cd-c507-4a34-cc37-3e5bea9c20f8"
   },
   "outputs": [
    {
     "name": "stdout",
     "output_type": "stream",
     "text": [
      "[nltk_data] Downloading package stopwords to /root/nltk_data...\n",
      "[nltk_data]   Package stopwords is already up-to-date!\n",
      "[nltk_data] Downloading package wordnet to /root/nltk_data...\n",
      "[nltk_data]   Package wordnet is already up-to-date!\n"
     ]
    },
    {
     "data": {
      "text/plain": [
       "True"
      ]
     },
     "execution_count": 41,
     "metadata": {
      "tags": []
     },
     "output_type": "execute_result"
    }
   ],
   "source": [
    "import re\n",
    "import io\n",
    "import numpy as np\n",
    "import pandas as pd\n",
    "import matplotlib.pyplot as plt\n",
    "import seaborn as sns\n",
    "sns.set(style=\"darkgrid\")\n",
    "\n",
    "from nltk.corpus import stopwords\n",
    "from nltk.stem.wordnet import WordNetLemmatizer\n",
    "from sklearn.model_selection import train_test_split\n",
    "from sklearn.ensemble import RandomForestClassifier\n",
    "from sklearn.model_selection import train_test_split\n",
    "from sklearn.base import BaseEstimator, TransformerMixin\n",
    "from sklearn.metrics import f1_score, confusion_matrix\n",
    "from sklearn.pipeline import Pipeline\n",
    "from yellowbrick.classifier import ClassificationReport\n",
    "\n",
    "from keras.utils import to_categorical, plot_model\n",
    "from keras.preprocessing.sequence import pad_sequences\n",
    "from keras.preprocessing.text import Tokenizer\n",
    "from keras.models import Sequential, load_model\n",
    "from keras.layers import LSTM, Dense, Embedding\n",
    "\n",
    "import nltk\n",
    "nltk.download('stopwords')\n",
    "nltk.download('wordnet')"
   ]
  },
  {
   "cell_type": "markdown",
   "metadata": {
    "colab_type": "text",
    "id": "uGBD6IPb28ib"
   },
   "source": [
    "I am only interested in three columns: *Speaker*, *Text* and *Season*."
   ]
  },
  {
   "cell_type": "code",
   "execution_count": 15,
   "metadata": {
    "colab": {
     "base_uri": "https://localhost:8080/",
     "height": 221
    },
    "colab_type": "code",
    "id": "-wxl2BMgqVY2",
    "outputId": "7095e052-ddd5-47a1-a0b8-e85a7a9b717c"
   },
   "outputs": [
    {
     "name": "stdout",
     "output_type": "stream",
     "text": [
      "1511 missing lines out of 93335\n"
     ]
    },
    {
     "data": {
      "text/html": [
       "<div>\n",
       "<style scoped>\n",
       "    .dataframe tbody tr th:only-of-type {\n",
       "        vertical-align: middle;\n",
       "    }\n",
       "\n",
       "    .dataframe tbody tr th {\n",
       "        vertical-align: top;\n",
       "    }\n",
       "\n",
       "    .dataframe thead th {\n",
       "        text-align: right;\n",
       "    }\n",
       "</style>\n",
       "<table border=\"1\" class=\"dataframe\">\n",
       "  <thead>\n",
       "    <tr style=\"text-align: right;\">\n",
       "      <th></th>\n",
       "      <th>Speaker</th>\n",
       "      <th>Text</th>\n",
       "      <th>Season</th>\n",
       "    </tr>\n",
       "  </thead>\n",
       "  <tbody>\n",
       "    <tr>\n",
       "      <th>93330</th>\n",
       "      <td>Chandler</td>\n",
       "      <td>What we did last night was....</td>\n",
       "      <td>4</td>\n",
       "    </tr>\n",
       "    <tr>\n",
       "      <th>93331</th>\n",
       "      <td>Chandler</td>\n",
       "      <td>I'm telling ya! It's gonna happen. Next year i...</td>\n",
       "      <td>10</td>\n",
       "    </tr>\n",
       "    <tr>\n",
       "      <th>93332</th>\n",
       "      <td>Ross</td>\n",
       "      <td>Yeah.</td>\n",
       "      <td>1</td>\n",
       "    </tr>\n",
       "    <tr>\n",
       "      <th>93333</th>\n",
       "      <td>Ross</td>\n",
       "      <td>What are you doing?</td>\n",
       "      <td>4</td>\n",
       "    </tr>\n",
       "    <tr>\n",
       "      <th>93334</th>\n",
       "      <td>Phoebe</td>\n",
       "      <td>Oh we can't, we already have plans.</td>\n",
       "      <td>5</td>\n",
       "    </tr>\n",
       "  </tbody>\n",
       "</table>\n",
       "</div>"
      ],
      "text/plain": [
       "        Speaker                                               Text  Season\n",
       "93330  Chandler                     What we did last night was....       4\n",
       "93331  Chandler  I'm telling ya! It's gonna happen. Next year i...      10\n",
       "93332      Ross                                              Yeah.       1\n",
       "93333      Ross                                What are you doing?       4\n",
       "93334    Phoebe                Oh we can't, we already have plans.       5"
      ]
     },
     "execution_count": 15,
     "metadata": {
      "tags": []
     },
     "output_type": "execute_result"
    }
   ],
   "source": [
    "full_data = pd.read_csv('friends_dataset.csv')\n",
    "dialog_data = full_data[['Speaker', 'Text', 'Season']].copy()\n",
    "print(\"{} missing lines out of {}\".format(dialog_data.isnull()['Text'].sum(), dialog_data.shape[0]))\n",
    "dialog_data.tail()"
   ]
  },
  {
   "cell_type": "markdown",
   "metadata": {
    "colab_type": "text",
    "id": "bj1P0M4m3Jy2"
   },
   "source": [
    "Have an idea about the distribution of lines per character."
   ]
  },
  {
   "cell_type": "code",
   "execution_count": 16,
   "metadata": {
    "colab": {
     "base_uri": "https://localhost:8080/",
     "height": 285
    },
    "colab_type": "code",
    "id": "VlbjeguYqii-",
    "outputId": "05b7a40e-e550-457d-aeab-a1c275aaaac2"
   },
   "outputs": [
    {
     "data": {
      "image/png": "[encoded data removed]",
      "text/plain": [
       "<Figure size 432x288 with 1 Axes>"
      ]
     },
     "metadata": {
      "needs_background": "light",
      "tags": []
     },
     "output_type": "display_data"
    }
   ],
   "source": [
    "character_dialog = dialog_data.groupby(['Speaker']).count().reset_index()\n",
    "ax = sns.barplot(x='Speaker', y='Text', data=character_dialog)\n",
    "plt.show()"
   ]
  },
  {
   "cell_type": "markdown",
   "metadata": {
    "colab_type": "text",
    "id": "VIJmET5B3WTJ"
   },
   "source": [
    "Have an idea about the distribution of lines per character per season."
   ]
  },
  {
   "cell_type": "code",
   "execution_count": 17,
   "metadata": {
    "colab": {
     "base_uri": "https://localhost:8080/",
     "height": 325
    },
    "colab_type": "code",
    "id": "hXC1AfV5HjGv",
    "outputId": "a3747828-2c78-480e-b43f-4e7b1d15a781"
   },
   "outputs": [
    {
     "data": {
      "image/png": "[encoded data removed]",
      "text/plain": [
       "<Figure size 432x288 with 1 Axes>"
      ]
     },
     "metadata": {
      "needs_background": "light",
      "tags": []
     },
     "output_type": "display_data"
    }
   ],
   "source": [
    "ax = dialog_data.groupby(['Speaker', 'Season']).size().unstack().plot(kind='bar', stacked=True)\n",
    "ax.legend(loc='center left', bbox_to_anchor=(1, 0.5))\n",
    "ax.set_ylabel('Text')\n",
    "plt.show()"
   ]
  },
  {
   "cell_type": "markdown",
   "metadata": {
    "colab_type": "text",
    "id": "3yqrc6pC3t85"
   },
   "source": [
    "## Data cleaning\n",
    "Tokenization and lemmatization. Stopword removal may be a good idea but I chose to keep stop words in case their over/underuse is deterministic w.r.t. the language.\n",
    "I also remove nan values."
   ]
  },
  {
   "cell_type": "code",
   "execution_count": 18,
   "metadata": {
    "colab": {
     "base_uri": "https://localhost:8080/",
     "height": 204
    },
    "colab_type": "code",
    "id": "QuM3sbQss1j4",
    "outputId": "a2d30812-e866-4db8-83de-09da06302765"
   },
   "outputs": [
    {
     "data": {
      "text/html": [
       "<div>\n",
       "<style scoped>\n",
       "    .dataframe tbody tr th:only-of-type {\n",
       "        vertical-align: middle;\n",
       "    }\n",
       "\n",
       "    .dataframe tbody tr th {\n",
       "        vertical-align: top;\n",
       "    }\n",
       "\n",
       "    .dataframe thead th {\n",
       "        text-align: right;\n",
       "    }\n",
       "</style>\n",
       "<table border=\"1\" class=\"dataframe\">\n",
       "  <thead>\n",
       "    <tr style=\"text-align: right;\">\n",
       "      <th></th>\n",
       "      <th>Speaker</th>\n",
       "      <th>Text</th>\n",
       "      <th>Season</th>\n",
       "    </tr>\n",
       "  </thead>\n",
       "  <tbody>\n",
       "    <tr>\n",
       "      <th>1</th>\n",
       "      <td>1</td>\n",
       "      <td>oh you got the whole night huh</td>\n",
       "      <td>1</td>\n",
       "    </tr>\n",
       "    <tr>\n",
       "      <th>2</th>\n",
       "      <td>2</td>\n",
       "      <td>phoebe is going to say yes that s that s great</td>\n",
       "      <td>9</td>\n",
       "    </tr>\n",
       "    <tr>\n",
       "      <th>5</th>\n",
       "      <td>5</td>\n",
       "      <td>doe this look like something the girlfriend of...</td>\n",
       "      <td>3</td>\n",
       "    </tr>\n",
       "    <tr>\n",
       "      <th>8</th>\n",
       "      <td>2</td>\n",
       "      <td>what that s terrible</td>\n",
       "      <td>9</td>\n",
       "    </tr>\n",
       "    <tr>\n",
       "      <th>9</th>\n",
       "      <td>0</td>\n",
       "      <td>rachel and joey it s rachel and joey</td>\n",
       "      <td>10</td>\n",
       "    </tr>\n",
       "  </tbody>\n",
       "</table>\n",
       "</div>"
      ],
      "text/plain": [
       "   Speaker                                               Text  Season\n",
       "1        1                     oh you got the whole night huh       1\n",
       "2        2     phoebe is going to say yes that s that s great       9\n",
       "5        5  doe this look like something the girlfriend of...       3\n",
       "8        2                               what that s terrible       9\n",
       "9        0               rachel and joey it s rachel and joey      10"
      ]
     },
     "execution_count": 18,
     "metadata": {
      "tags": []
     },
     "output_type": "execute_result"
    }
   ],
   "source": [
    "lemmatizer = WordNetLemmatizer()\n",
    "MIN_SENT_LEN = 3\n",
    "def tokenize(raw_value, min_sent = MIN_SENT_LEN):\n",
    "  \"\"\"\n",
    "  Take the raw_value, tokenize it, lowercase it and lemmatize it. \n",
    "  \n",
    "  Parameters:\n",
    "    raw_value: str - the string to tokenize\n",
    "    min_sent: int - the mainimum length of the resulting tokenize sentence. \n",
    "                If not met, then return NaN.\n",
    "  Return: str\n",
    "      A tokenized value with words separated by single spaces\n",
    "  \"\"\"\n",
    "  words = re.sub(r\"[^A-Za-z]\", \" \", raw_value).lower().split()\n",
    "  words = [lemmatizer.lemmatize(word.strip()) for word in words]\n",
    "  if len(words) < min_sent:\n",
    "    return np.nan\n",
    "  return \" \".join(words)\n",
    "\n",
    "# Let's tokenize and clean the data\n",
    "characters = list(set(dialog_data['Speaker'].tolist()))\n",
    "dialog_data['Text'] = dialog_data['Text'].astype(str).apply(tokenize)\n",
    "dialog_data = dialog_data.drop(dialog_data[dialog_data['Text'].isna()].index)\n",
    "dialog_data['Speaker'] = dialog_data['Speaker'].astype(str).apply(lambda txt: int(characters.index(txt)))\n",
    "dialog_data.head()"
   ]
  },
  {
   "cell_type": "markdown",
   "metadata": {
    "colab_type": "text",
    "id": "nXjkzQi04UQS"
   },
   "source": [
    "Load the pre-trained vectors. Only the words from the given vocabulary (which in this case is a *word: word_id* dictionary) are loaded as a matrix."
   ]
  },
  {
   "cell_type": "code",
   "execution_count": 0,
   "metadata": {
    "colab": {},
    "colab_type": "code",
    "id": "Wd4KISf8MVs7"
   },
   "outputs": [],
   "source": [
    "def load_vectors(fname, vocabulary):\n",
    "    \"\"\"\n",
    "    Load pre-trained vectors for the words in the vocabulary.\n",
    "    Return a matrix of vectors with each row corresponding to a word.\n",
    "    \"\"\"\n",
    "    vocabulary_set = set(vocabulary.keys())\n",
    "    fin = io.open(fname, 'r', encoding='utf-8', newline='\\n', errors='ignore')\n",
    "    n, d = map(int, fin.readline().split())\n",
    "    vector_matrix = np.zeros((len(vocabulary_set) + 1, d), dtype=np.float)\n",
    "    for line in fin:\n",
    "        tokens = line.rstrip().split(' ')\n",
    "        if tokens[0] in vocabulary_set:\n",
    "          vector_matrix[vocabulary[tokens[0]]] = np.array(tokens[1:], dtype=np.float)\n",
    "    return vector_matrix"
   ]
  },
  {
   "cell_type": "markdown",
   "metadata": {
    "colab_type": "text",
    "id": "eCDTea6d40GE"
   },
   "source": [
    "Generate training data using a CBOW architecture where the context of a word is given by its surrounding words. "
   ]
  },
  {
   "cell_type": "code",
   "execution_count": 0,
   "metadata": {
    "colab": {},
    "colab_type": "code",
    "id": "kWPnaQaZWpbV"
   },
   "outputs": [],
   "source": [
    "def training_data_creator(tokenized_data, expected_labels, window_size=2):\n",
    "  \"\"\"\n",
    "  Create CBOW sequences where each word is characterized by a context defined by the surrounding words.\n",
    "  \n",
    "  Parameters:\n",
    "      tokeinzed_data: iterable - the tokenized sentences\n",
    "      expected_labels: int - the expected number of labels/classes\n",
    "      window_size: int - the number of context words to consider at each left and right of the word.\n",
    "  Return: tuple\n",
    "      Sequence array and label array. Each sentence may result in multiple sequences.\n",
    "  \n",
    "  \"\"\"\n",
    "  contexts = []\n",
    "  labels = []\n",
    "  for seq in tokenized_data:\n",
    "    for idx, word in enumerate(seq):\n",
    "      left_boudary = idx - window_size\n",
    "      right_boudary = idx + window_size + 1\n",
    "      contexts.append([seq[i] for i in range(left_boudary, right_boudary) if 0 <= i < len(seq) and i != idx])\n",
    "      labels.append(word)\n",
    "  X = pad_sequences(contexts, maxlen=window_size*2)\n",
    "  y = to_categorical(labels, expected_labels)\n",
    "  return X, y"
   ]
  },
  {
   "cell_type": "markdown",
   "metadata": {
    "colab_type": "text",
    "id": "dYKK6viL5HIf"
   },
   "source": [
    "## Language models\n",
    "Create a CBOW model for each character starting from pre-trained embeddings. Note that the FastText embeddings are modified during training to better reflect the current contexts.\n",
    "\n",
    "### Network parameters:\n",
    "- The architecture, although simple, gave the best results when compred with other more complex ones.\n",
    "- The number of LSTM nodes didn't seem to impact results by much.\n",
    "- The activation and loss functions are common choices in these kind of settings.\n",
    "- The number of epochs could potentially be increased.\n",
    "- The batch size seems to have an important role in the overall accuracy so using a lower value may improve results. I tried to keep a balance between training time and ite value."
   ]
  },
  {
   "cell_type": "code",
   "execution_count": 0,
   "metadata": {
    "colab": {},
    "colab_type": "code",
    "id": "EGNfpnhKMWrn"
   },
   "outputs": [],
   "source": [
    "WIN_SIZE = 2\n",
    "for friend in characters:\n",
    "  print(friend)\n",
    "  corpus_train = dialog_data[(dialog_data['Speaker'] == characters.index(friend)) \n",
    "  & (dialog_data['Season'].isin([1,2,3,4,5,6,7,8]))]['Text'].tolist()\n",
    "  tokenizer = Tokenizer()\n",
    "  tokenizer.fit_on_texts(corpus_train)\n",
    "  tokenized_data = tokenizer.texts_to_sequences(corpus_train)\n",
    "  vector_matrix = load_vectors('crawl-300d-2M-subword.vec', tokenizer.word_index)\n",
    "  X_train, y_train = training_data_creator(tokenized_data, len(tokenizer.word_index)+1)\n",
    "\n",
    "  model = Sequential()\n",
    "  model.add(Embedding(input_dim=len(tokenizer.word_index)+1, output_dim=vector_matrix.shape[1], \n",
    "                      weights=[vector_matrix], input_length=WIN_SIZE*2, trainable=True))\n",
    "  model.add(LSTM(100, activation='relu', input_shape=(WIN_SIZE*2, vector_matrix.shape[1]), return_sequences=False))\n",
    "  model.add(Dense(len(tokenizer.word_index)+1, activation='softmax'))\n",
    "  model.compile(loss='categorical_crossentropy', optimizer='adam', metrics=['accuracy'])\n",
    "\n",
    "  model.fit(X_train, y_train, epochs=30, verbose=1, batch_size=64)\n",
    "\n",
    "  model.save(friend + '_model.seq')"
   ]
  },
  {
   "cell_type": "markdown",
   "metadata": {
    "colab_type": "text",
    "id": "0Biak_ur6cj0"
   },
   "source": [
    "Once the language models are trained, extract the word embeddings. The training corpus is toknized one more time to obtain the keys for a *word: vector* dictionary."
   ]
  },
  {
   "cell_type": "code",
   "execution_count": 0,
   "metadata": {
    "colab": {},
    "colab_type": "code",
    "id": "ZP6m_EvA0vaR"
   },
   "outputs": [],
   "source": [
    "embeddings = []\n",
    "for friend in characters:\n",
    "  corpus_train = dialog_data[(dialog_data['Speaker'] == characters.index(friend)) & \n",
    "                             (dialog_data['Season'].isin([1,2,3,4,5,6,7,8]))]['Text'].tolist()\n",
    "  tokenizer = Tokenizer()\n",
    "  tokenizer.fit_on_texts(corpus_train)\n",
    "\n",
    "  model = load_model(friend + '_model.seq')\n",
    "  embeddings_model = model.layers[0].get_weights()[0]\n",
    "  embeddings.append({w: embeddings_model[tokenizer.word_index[w]] \n",
    "                     for w in tokenizer.word_index.keys() \n",
    "                     if tokenizer.word_index[w] < len(embeddings_model)})"
   ]
  },
  {
   "cell_type": "markdown",
   "metadata": {
    "colab_type": "text",
    "id": "rMbFvtQz7Fmt"
   },
   "source": [
    "This is how the NN architecture looks like."
   ]
  },
  {
   "cell_type": "code",
   "execution_count": 45,
   "metadata": {
    "colab": {
     "base_uri": "https://localhost:8080/",
     "height": 423
    },
    "colab_type": "code",
    "id": "r2rE3zqGvlxx",
    "outputId": "81c1597f-6d68-4724-92cf-ca62d8a672b0"
   },
   "outputs": [
    {
     "name": "stderr",
     "output_type": "stream",
     "text": [
      "/usr/local/lib/python3.6/dist-packages/tensorflow/python/framework/indexed_slices.py:434: UserWarning: Converting sparse IndexedSlices to a dense Tensor of unknown shape. This may consume a large amount of memory.\n",
      "  \"Converting sparse IndexedSlices to a dense Tensor of unknown shape. \"\n"
     ]
    },
    {
     "data": {
      "image/png": "[encoded data removed]",
      "text/plain": [
       "<IPython.core.display.Image object>"
      ]
     },
     "execution_count": 45,
     "metadata": {
      "tags": []
     },
     "output_type": "execute_result"
    }
   ],
   "source": [
    "plot_model(model)"
   ]
  },
  {
   "cell_type": "markdown",
   "metadata": {
    "colab_type": "text",
    "id": "A2QGtmK17oD2"
   },
   "source": [
    "## Quote prediction\n",
    "Firstly, define a transformer that uses the above-learned word embeddings to generate quote embeddings.\n",
    "Each quote embedding is the character embedding mean of all the constituent words.\n",
    "The final feature vector is the concatenation of all character feature vectors."
   ]
  },
  {
   "cell_type": "code",
   "execution_count": 0,
   "metadata": {
    "colab": {},
    "colab_type": "code",
    "id": "vRTKM2BbkbOZ"
   },
   "outputs": [],
   "source": [
    "class FriendsTransformer(BaseEstimator, TransformerMixin):\n",
    "  \"\"\"\n",
    "  Transform the lines of a given character in vectors using pre-trained embeddings.\n",
    "  \"\"\"\n",
    "  def __init__(self, vectors, dimensions):\n",
    "    \"\"\"\n",
    "    Create a new transformer instance.\n",
    "    Parameters:\n",
    "        vectors: iterable - an iterable of dictionaries. Each dict contains word: embeddings associations.\n",
    "        dimensions: int - the expected size of each embedding vector\n",
    "    \"\"\"\n",
    "    self._vectors = vectors\n",
    "    self._dimensions = dimensions\n",
    "\n",
    "  def fit(self, X, y=None):\n",
    "    \"\"\"\n",
    "    This is a transformer, so no need for fit.\n",
    "    \"\"\"\n",
    "    return self\n",
    "\n",
    "  def transform(self, X):\n",
    "    \"\"\"\n",
    "    Transform each given sequence into an embedding vector.\n",
    "    For each friend, firstly extract the embedding of each word from the sequence and average the results.\n",
    "    Then, concatenate all friend embeddings.\n",
    "    \"\"\"\n",
    "    X_transformed = []\n",
    "    for item in X:\n",
    "      item_vector = np.array([])\n",
    "      for i, friend in enumerate(self._vectors):\n",
    "        item_vector = np.concatenate((item_vector, np.mean([self._vectors[i].get(w, np.zeros(self._dimensions, dtype=np.float)) \n",
    "        for w in item.split(' ')], axis=0)))\n",
    "      X_transformed.append(item_vector)\n",
    "    return np.array(X_transformed)\n"
   ]
  },
  {
   "cell_type": "markdown",
   "metadata": {
    "colab_type": "text",
    "id": "dJcOxhXr7q1H"
   },
   "source": [
    "Then, create a pipeline to transform and fit data from Seasons 9 and 10 (different from the data used to train the language models).\n",
    "For visualization purposes, use yellowbricks.\n",
    "\n",
    "Why Precision, Recall and F1-score?\n",
    "\n",
    "- **Precision**: is the proportion of lines *correctly* attributed to a each character. Intuitively, precision is the ability of the quote classifier not to attribute to a character a quote that is not said by that character.\n",
    "- **Recall**: is the proportion of lines *correctly* attributed to a each character from all possible lines for that character. Intuitively, recall reflects the ability of the classifier to find all the right character-quote associations.\n",
    "- **F1-score**: provides a single score that balances both the concerns of precision and recall in one number.\n",
    "\n",
    "Overall, these metrics provide a image of the *relevance* of the predictions w.r.t. our goal of identifying the character of a given quote."
   ]
  },
  {
   "cell_type": "code",
   "execution_count": 40,
   "metadata": {
    "colab": {
     "base_uri": "https://localhost:8080/",
     "height": 401
    },
    "colab_type": "code",
    "id": "elpW7yXOz8PQ",
    "outputId": "66d3209d-39cd-4c0b-88f0-dbc1be6b4d99"
   },
   "outputs": [
    {
     "data": {
      "image/png": "[encoded data removed]",
      "text/plain": [
       "<Figure size 576x396 with 2 Axes>"
      ]
     },
     "metadata": {
      "tags": []
     },
     "output_type": "display_data"
    }
   ],
   "source": [
    "corpus_train = dialog_data[dialog_data['Season'].isin([9, 10])][['Speaker','Text']]\n",
    "ft = FriendsTransformer(embeddings, 300, characters)\n",
    "classifier = RandomForestClassifier(n_estimators=200)\n",
    "pipeline = Pipeline([('transformer', ft), ('classifier', classifier)])\n",
    "X_train, X_test, y_train, y_test = train_test_split(corpus_train['Text'].tolist(), \n",
    "                                                    corpus_train['Speaker'].tolist(), \n",
    "                                                    test_size=0.25, random_state=42)\n",
    "\n",
    "# Using the awesome classification report from yellowbricks\n",
    "visualizer = ClassificationReport(pipeline, classes=characters)\n",
    "visualizer.fit(X_train, y_train) # fit the pipeline and the visualizer        \n",
    "visualizer.score(X_test, y_test) # evaluate the predictions\n",
    "visualizer.poof()   \n",
    "\n",
    "# print(classification_report(y_test, y_pred, target_names=characters))"
   ]
  },
  {
   "cell_type": "markdown",
   "metadata": {
    "colab_type": "text",
    "id": "WSO2XDk68Rsw"
   },
   "source": [
    "A confusion matrix may be useful here."
   ]
  },
  {
   "cell_type": "code",
   "execution_count": 35,
   "metadata": {
    "colab": {
     "base_uri": "https://localhost:8080/",
     "height": 611
    },
    "colab_type": "code",
    "id": "NPEscGobPxn_",
    "outputId": "5b4f6bd7-fee1-4142-e493-4bd29eb0bd33"
   },
   "outputs": [
    {
     "data": {
      "image/png": "[encoded data removed]",
      "text/plain": [
       "<Figure size 720x720 with 2 Axes>"
      ]
     },
     "metadata": {
      "tags": []
     },
     "output_type": "display_data"
    }
   ],
   "source": [
    "def plot_cm(y_true, y_pred, labels, figsize=(10,10)):\n",
    "    cm = confusion_matrix(y_true, y_pred, labels=np.unique(y_true))\n",
    "    cm_sum = np.sum(cm, axis=1, keepdims=True)\n",
    "    cm_perc = cm / cm_sum.astype(float) * 100\n",
    "    annot = np.empty_like(cm).astype(str)\n",
    "    nrows, ncols = cm.shape\n",
    "    for i in range(nrows):\n",
    "        for j in range(ncols):\n",
    "            c = cm[i, j]\n",
    "            p = cm_perc[i, j]\n",
    "            if i == j:\n",
    "                s = cm_sum[i]\n",
    "                annot[i, j] = '%.1f%%\\n%d/%d' % (p, c, s)\n",
    "            elif c == 0:\n",
    "                annot[i, j] = ''\n",
    "            else:\n",
    "                annot[i, j] = '%.1f%%\\n%d' % (p, c)\n",
    "    cm = pd.DataFrame(cm, index=[labels[i] for i in np.unique(y_true)], columns=[labels[i] for i in np.unique(y_true)])\n",
    "    cm.index.name = 'Actual'\n",
    "    cm.columns.name = 'Predicted'\n",
    "    fig, ax = plt.subplots(figsize=figsize)\n",
    "    sns.heatmap(cm, cmap= \"YlGnBu\", annot=annot, fmt='', ax=ax)\n",
    "\n",
    "y_pred = pipeline.predict(X_test)\n",
    "plot_cm(y_test, y_pred, characters)"
   ]
  },
  {
   "cell_type": "markdown",
   "metadata": {
    "colab_type": "text",
    "id": "ENVFy1bS8aa8"
   },
   "source": [
    "Finally, let's play guess the FRIEND."
   ]
  },
  {
   "cell_type": "code",
   "execution_count": 53,
   "metadata": {
    "colab": {
     "base_uri": "https://localhost:8080/",
     "height": 34
    },
    "colab_type": "code",
    "id": "h7X9I_wP0MXI",
    "outputId": "97494b66-2123-4458-ea10-b43b1245a99c"
   },
   "outputs": [
    {
     "data": {
      "text/plain": [
       "'Joey'"
      ]
     },
     "execution_count": 53,
     "metadata": {
      "tags": []
     },
     "output_type": "execute_result"
    }
   ],
   "source": [
    "line = \"Don't you put words in people's mouths. You put turkey in people's mouths.\"\n",
    "characters[pipeline.predict([tokenize(line)])[0]]"
   ]
  },
  {
   "cell_type": "code",
   "execution_count": 0,
   "metadata": {
    "colab": {},
    "colab_type": "code",
    "id": "0JK3qzQzMFAt"
   },
   "outputs": [],
   "source": []
  }
 ],
 "metadata": {
  "accelerator": "GPU",
  "colab": {
   "collapsed_sections": [],
   "machine_shape": "hm",
   "name": "FRIENDS_lm.ipynb",
   "provenance": []
  },
  "kernelspec": {
   "display_name": "Python 3",
   "language": "python",
   "name": "python3"
  },
  "language_info": {
   "codemirror_mode": {
    "name": "ipython",
    "version": 3
   },
   "file_extension": ".py",
   "mimetype": "text/x-python",
   "name": "python",
   "nbconvert_exporter": "python",
   "pygments_lexer": "ipython3",
   "version": "3.7.5"
  }
 },
 "nbformat": 4,
 "nbformat_minor": 1
}
